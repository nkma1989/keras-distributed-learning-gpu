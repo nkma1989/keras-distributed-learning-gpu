{
 "cells": [
  {
   "cell_type": "code",
   "execution_count": 15,
   "metadata": {},
   "outputs": [],
   "source": [
    "from azureml.core import Workspace\n",
    "from azureml.core.authentication import InteractiveLoginAuthentication\n",
    "import config as cfg"
   ]
  },
  {
   "cell_type": "code",
   "execution_count": 12,
   "metadata": {},
   "outputs": [
    {
     "name": "stderr",
     "output_type": "stream",
     "text": [
      "Note, we have launched a browser for you to login. For old experience with device code, use \"az login --use-device-code\"\n"
     ]
    },
    {
     "name": "stdout",
     "output_type": "stream",
     "text": [
      "Performing interactive authentication. Please follow the instructions on the terminal.\n"
     ]
    },
    {
     "name": "stderr",
     "output_type": "stream",
     "text": [
      "You have logged in. Now let us find all the subscriptions to which you have access...\n"
     ]
    },
    {
     "name": "stdout",
     "output_type": "stream",
     "text": [
      "Interactive authentication successfully completed.\n"
     ]
    },
    {
     "data": {
      "text/plain": [
       "<azureml.core.authentication.InteractiveLoginAuthentication at 0x26825a08978>"
      ]
     },
     "execution_count": 12,
     "metadata": {},
     "output_type": "execute_result"
    }
   ],
   "source": [
    "#Force active login window, usefull if you have multiple subscriptions you use.\n",
    "InteractiveLoginAuthentication(force=True, tenant_id=None)"
   ]
  },
  {
   "cell_type": "code",
   "execution_count": 22,
   "metadata": {},
   "outputs": [
    {
     "name": "stdout",
     "output_type": "stream",
     "text": [
      "WS Name: distr_gpu\n",
      "Subscription ID: 31d7e1d6-059f-43aa-b113-84ec07464583\n",
      "Resource Group: RG_NielsTest\n",
      "WS Region: westeurope\n"
     ]
    }
   ],
   "source": [
    "#Defining Azure ML workspace parameters\n",
    "print(\"WS Name: \" +cfg.workspace['name'])\n",
    "print(\"Subscription ID: \" + cfg.workspace['subscription_id'])\n",
    "print(\"Resource Group: \" + cfg.workspace['resource_group'])\n",
    "print(\"WS Region: \" + cfg.workspace['workspace_region'])\n",
    "workspace_name=cfg.workspace['name']\n",
    "subscription_id=cfg.workspace['subscription_id']\n",
    "resource_group=cfg.workspace['resource_group']\n",
    "workspace_region=cfg.workspace['workspace_region']"
   ]
  },
  {
   "cell_type": "code",
   "execution_count": 23,
   "metadata": {},
   "outputs": [
    {
     "name": "stdout",
     "output_type": "stream",
     "text": [
      "Deploying KeyVault with name distrgpukeyvault4fc66ec1.\n",
      "Deploying StorageAccount with name distrgpustorage20dd9930c.\n",
      "Deploying AppInsights with name distrgpuinsightsaab8d2e7.\n",
      "Deployed AppInsights with name distrgpuinsightsaab8d2e7. Took 8.8 seconds.\n",
      "Deployed KeyVault with name distrgpukeyvault4fc66ec1. Took 21.44 seconds.\n",
      "Deployed StorageAccount with name distrgpustorage20dd9930c. Took 29.1 seconds.\n",
      "Deploying Workspace with name distr_gpu.\n",
      "Deployed Workspace with name distr_gpu. Took 199.47 seconds.\n",
      "Deploying Compute Target with name cpu-cluster\n",
      "Deploying Compute Target with name gpu-cluster\n",
      "Deployed Compute Target with name cpu-cluster. Took 43.14 seconds\n",
      "Deployed Compute Target with name gpu-cluster. Took 43.91 seconds\n"
     ]
    }
   ],
   "source": [
    "\n",
    "# Create the workspace using the specified parameters\n",
    "ws = Workspace.create(name = workspace_name,\n",
    "                      subscription_id = subscription_id,\n",
    "                      resource_group = resource_group, \n",
    "                      location = workspace_region,\n",
    "                      create_resource_group = True,\n",
    "                      exist_ok = True)\n",
    "ws.get_details()\n",
    "\n",
    "# write the details of the workspace to a configuration file to the notebook library\n",
    "ws.write_config()"
   ]
  }
 ],
 "metadata": {
  "kernelspec": {
   "display_name": "AZMLvenv",
   "language": "python",
   "name": "azmlvenv"
  },
  "language_info": {
   "codemirror_mode": {
    "name": "ipython",
    "version": 3
   },
   "file_extension": ".py",
   "mimetype": "text/x-python",
   "name": "python",
   "nbconvert_exporter": "python",
   "pygments_lexer": "ipython3",
   "version": "3.6.8"
  }
 },
 "nbformat": 4,
 "nbformat_minor": 2
}
